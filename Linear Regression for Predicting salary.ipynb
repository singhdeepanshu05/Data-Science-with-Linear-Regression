{
 "cells": [
  {
   "cell_type": "code",
   "execution_count": 1,
   "id": "76d0ac03",
   "metadata": {},
   "outputs": [],
   "source": [
    "import numpy as np\n",
    "import pandas as pd\n",
    "import matplotlib.pyplot as plt\n",
    "import seaborn as sns"
   ]
  },
  {
   "cell_type": "code",
   "execution_count": 10,
   "id": "5e7eacf0",
   "metadata": {},
   "outputs": [],
   "source": [
    "data = pd.read_csv(\"Data_Job_Salary.csv\")"
   ]
  },
  {
   "cell_type": "code",
   "execution_count": 11,
   "id": "62e33402",
   "metadata": {},
   "outputs": [
    {
     "data": {
      "text/html": [
       "<div>\n",
       "<style scoped>\n",
       "    .dataframe tbody tr th:only-of-type {\n",
       "        vertical-align: middle;\n",
       "    }\n",
       "\n",
       "    .dataframe tbody tr th {\n",
       "        vertical-align: top;\n",
       "    }\n",
       "\n",
       "    .dataframe thead th {\n",
       "        text-align: right;\n",
       "    }\n",
       "</style>\n",
       "<table border=\"1\" class=\"dataframe\">\n",
       "  <thead>\n",
       "    <tr style=\"text-align: right;\">\n",
       "      <th></th>\n",
       "      <th>ID</th>\n",
       "      <th>work_year</th>\n",
       "      <th>experience_level</th>\n",
       "      <th>employment_type</th>\n",
       "      <th>job_title</th>\n",
       "      <th>salary</th>\n",
       "      <th>salary_currency</th>\n",
       "      <th>salary_in_usd</th>\n",
       "      <th>employee_residence</th>\n",
       "      <th>remote_ratio</th>\n",
       "      <th>company_location</th>\n",
       "      <th>company_size</th>\n",
       "    </tr>\n",
       "  </thead>\n",
       "  <tbody>\n",
       "    <tr>\n",
       "      <th>0</th>\n",
       "      <td>12121.0</td>\n",
       "      <td>2020.0</td>\n",
       "      <td>MI</td>\n",
       "      <td>FT</td>\n",
       "      <td>Data Scientist</td>\n",
       "      <td>70000.0</td>\n",
       "      <td>EUR</td>\n",
       "      <td>79833.0</td>\n",
       "      <td>DE</td>\n",
       "      <td>0.0</td>\n",
       "      <td>DE</td>\n",
       "      <td>L</td>\n",
       "    </tr>\n",
       "    <tr>\n",
       "      <th>1</th>\n",
       "      <td>12122.0</td>\n",
       "      <td>2020.0</td>\n",
       "      <td>SE</td>\n",
       "      <td>FT</td>\n",
       "      <td>Machine Learning Scientist</td>\n",
       "      <td>260000.0</td>\n",
       "      <td>USD</td>\n",
       "      <td>260000.0</td>\n",
       "      <td>JP</td>\n",
       "      <td>0.0</td>\n",
       "      <td>JP</td>\n",
       "      <td>S</td>\n",
       "    </tr>\n",
       "    <tr>\n",
       "      <th>2</th>\n",
       "      <td>12123.0</td>\n",
       "      <td>2020.0</td>\n",
       "      <td>SE</td>\n",
       "      <td>FT</td>\n",
       "      <td>Big Data Engineer</td>\n",
       "      <td>85000.0</td>\n",
       "      <td>GBP</td>\n",
       "      <td>109024.0</td>\n",
       "      <td>GB</td>\n",
       "      <td>50.0</td>\n",
       "      <td>GB</td>\n",
       "      <td>M</td>\n",
       "    </tr>\n",
       "    <tr>\n",
       "      <th>3</th>\n",
       "      <td>12124.0</td>\n",
       "      <td>2020.0</td>\n",
       "      <td>MI</td>\n",
       "      <td>FT</td>\n",
       "      <td>Product Data Analyst</td>\n",
       "      <td>20000.0</td>\n",
       "      <td>USD</td>\n",
       "      <td>20000.0</td>\n",
       "      <td>HN</td>\n",
       "      <td>0.0</td>\n",
       "      <td>HN</td>\n",
       "      <td>S</td>\n",
       "    </tr>\n",
       "    <tr>\n",
       "      <th>4</th>\n",
       "      <td>12125.0</td>\n",
       "      <td>NaN</td>\n",
       "      <td>SE</td>\n",
       "      <td>FT</td>\n",
       "      <td>Machine Learning Engineer</td>\n",
       "      <td>150000.0</td>\n",
       "      <td>USD</td>\n",
       "      <td>150000.0</td>\n",
       "      <td>US</td>\n",
       "      <td>50.0</td>\n",
       "      <td>US</td>\n",
       "      <td>L</td>\n",
       "    </tr>\n",
       "    <tr>\n",
       "      <th>...</th>\n",
       "      <td>...</td>\n",
       "      <td>...</td>\n",
       "      <td>...</td>\n",
       "      <td>...</td>\n",
       "      <td>...</td>\n",
       "      <td>...</td>\n",
       "      <td>...</td>\n",
       "      <td>...</td>\n",
       "      <td>...</td>\n",
       "      <td>...</td>\n",
       "      <td>...</td>\n",
       "      <td>...</td>\n",
       "    </tr>\n",
       "    <tr>\n",
       "      <th>602</th>\n",
       "      <td>12723.0</td>\n",
       "      <td>2022.0</td>\n",
       "      <td>SE</td>\n",
       "      <td>FT</td>\n",
       "      <td>Data Engineer</td>\n",
       "      <td>154000.0</td>\n",
       "      <td>USD</td>\n",
       "      <td>154000.0</td>\n",
       "      <td>US</td>\n",
       "      <td>100.0</td>\n",
       "      <td>US</td>\n",
       "      <td>M</td>\n",
       "    </tr>\n",
       "    <tr>\n",
       "      <th>603</th>\n",
       "      <td>12724.0</td>\n",
       "      <td>2022.0</td>\n",
       "      <td>SE</td>\n",
       "      <td>FT</td>\n",
       "      <td>Data Engineer</td>\n",
       "      <td>126000.0</td>\n",
       "      <td>USD</td>\n",
       "      <td>126000.0</td>\n",
       "      <td>US</td>\n",
       "      <td>100.0</td>\n",
       "      <td>US</td>\n",
       "      <td>M</td>\n",
       "    </tr>\n",
       "    <tr>\n",
       "      <th>604</th>\n",
       "      <td>12725.0</td>\n",
       "      <td>2022.0</td>\n",
       "      <td>SE</td>\n",
       "      <td>FT</td>\n",
       "      <td>Data Analyst</td>\n",
       "      <td>129000.0</td>\n",
       "      <td>USD</td>\n",
       "      <td>129000.0</td>\n",
       "      <td>US</td>\n",
       "      <td>0.0</td>\n",
       "      <td>US</td>\n",
       "      <td>M</td>\n",
       "    </tr>\n",
       "    <tr>\n",
       "      <th>605</th>\n",
       "      <td>12726.0</td>\n",
       "      <td>2022.0</td>\n",
       "      <td>SE</td>\n",
       "      <td>FT</td>\n",
       "      <td>Data Analyst</td>\n",
       "      <td>150000.0</td>\n",
       "      <td>USD</td>\n",
       "      <td>150000.0</td>\n",
       "      <td>US</td>\n",
       "      <td>100.0</td>\n",
       "      <td>US</td>\n",
       "      <td>M</td>\n",
       "    </tr>\n",
       "    <tr>\n",
       "      <th>606</th>\n",
       "      <td>12727.0</td>\n",
       "      <td>2022.0</td>\n",
       "      <td>MI</td>\n",
       "      <td>FT</td>\n",
       "      <td>AI Scientist</td>\n",
       "      <td>200000.0</td>\n",
       "      <td>USD</td>\n",
       "      <td>200000.0</td>\n",
       "      <td>IN</td>\n",
       "      <td>100.0</td>\n",
       "      <td>US</td>\n",
       "      <td>L</td>\n",
       "    </tr>\n",
       "  </tbody>\n",
       "</table>\n",
       "<p>607 rows × 12 columns</p>\n",
       "</div>"
      ],
      "text/plain": [
       "         ID   work_year experience_level employment_type  \\\n",
       "0    12121.0     2020.0               MI              FT   \n",
       "1    12122.0     2020.0               SE              FT   \n",
       "2    12123.0     2020.0               SE              FT   \n",
       "3    12124.0     2020.0               MI              FT   \n",
       "4    12125.0        NaN               SE              FT   \n",
       "..       ...        ...              ...             ...   \n",
       "602  12723.0     2022.0               SE              FT   \n",
       "603  12724.0     2022.0               SE              FT   \n",
       "604  12725.0     2022.0               SE              FT   \n",
       "605  12726.0     2022.0               SE              FT   \n",
       "606  12727.0     2022.0               MI              FT   \n",
       "\n",
       "                      job_title    salary salary_currency  salary_in_usd  \\\n",
       "0                Data Scientist   70000.0             EUR        79833.0   \n",
       "1    Machine Learning Scientist  260000.0             USD       260000.0   \n",
       "2             Big Data Engineer   85000.0             GBP       109024.0   \n",
       "3          Product Data Analyst   20000.0             USD        20000.0   \n",
       "4     Machine Learning Engineer  150000.0             USD       150000.0   \n",
       "..                          ...       ...             ...            ...   \n",
       "602               Data Engineer  154000.0             USD       154000.0   \n",
       "603               Data Engineer  126000.0             USD       126000.0   \n",
       "604                Data Analyst  129000.0             USD       129000.0   \n",
       "605                Data Analyst  150000.0             USD       150000.0   \n",
       "606                AI Scientist  200000.0             USD       200000.0   \n",
       "\n",
       "    employee_residence  remote_ratio company_location company_size  \n",
       "0                   DE           0.0               DE            L  \n",
       "1                   JP           0.0               JP            S  \n",
       "2                   GB          50.0               GB            M  \n",
       "3                   HN           0.0               HN            S  \n",
       "4                   US          50.0               US            L  \n",
       "..                 ...           ...              ...          ...  \n",
       "602                 US         100.0               US            M  \n",
       "603                 US         100.0               US            M  \n",
       "604                 US           0.0               US            M  \n",
       "605                 US         100.0               US            M  \n",
       "606                 IN         100.0               US            L  \n",
       "\n",
       "[607 rows x 12 columns]"
      ]
     },
     "execution_count": 11,
     "metadata": {},
     "output_type": "execute_result"
    }
   ],
   "source": [
    "data"
   ]
  },
  {
   "cell_type": "code",
   "execution_count": 12,
   "id": "d6815025",
   "metadata": {
    "scrolled": true
   },
   "outputs": [
    {
     "data": {
      "text/plain": [
       "Index(['ID ', 'work_year', 'experience_level', 'employment_type', 'job_title',\n",
       "       'salary', 'salary_currency', 'salary_in_usd', 'employee_residence',\n",
       "       'remote_ratio', 'company_location', 'company_size'],\n",
       "      dtype='object')"
      ]
     },
     "execution_count": 12,
     "metadata": {},
     "output_type": "execute_result"
    }
   ],
   "source": [
    "data.columns"
   ]
  },
  {
   "cell_type": "code",
   "execution_count": 13,
   "id": "b24f866f",
   "metadata": {
    "scrolled": true
   },
   "outputs": [
    {
     "data": {
      "text/plain": [
       "array(['MI', 'SE', 'EN', 'EX'], dtype=object)"
      ]
     },
     "execution_count": 13,
     "metadata": {},
     "output_type": "execute_result"
    }
   ],
   "source": [
    "data['experience_level'].unique()"
   ]
  },
  {
   "cell_type": "code",
   "execution_count": 15,
   "id": "515b34c3",
   "metadata": {},
   "outputs": [
    {
     "data": {
      "text/plain": [
       "array(['FT', 'CT', 'PT', 'FL'], dtype=object)"
      ]
     },
     "execution_count": 15,
     "metadata": {},
     "output_type": "execute_result"
    }
   ],
   "source": [
    "data['employment_type'].unique()"
   ]
  },
  {
   "cell_type": "code",
   "execution_count": 16,
   "id": "9af21d40",
   "metadata": {},
   "outputs": [
    {
     "data": {
      "text/plain": [
       "array([2020.,   nan, 2021., 2022.])"
      ]
     },
     "execution_count": 16,
     "metadata": {},
     "output_type": "execute_result"
    }
   ],
   "source": [
    "data['work_year'].unique()"
   ]
  },
  {
   "cell_type": "code",
   "execution_count": 17,
   "id": "47cab589",
   "metadata": {},
   "outputs": [
    {
     "data": {
      "text/html": [
       "<div>\n",
       "<style scoped>\n",
       "    .dataframe tbody tr th:only-of-type {\n",
       "        vertical-align: middle;\n",
       "    }\n",
       "\n",
       "    .dataframe tbody tr th {\n",
       "        vertical-align: top;\n",
       "    }\n",
       "\n",
       "    .dataframe thead th {\n",
       "        text-align: right;\n",
       "    }\n",
       "</style>\n",
       "<table border=\"1\" class=\"dataframe\">\n",
       "  <thead>\n",
       "    <tr style=\"text-align: right;\">\n",
       "      <th></th>\n",
       "      <th>ID</th>\n",
       "      <th>work_year</th>\n",
       "      <th>salary</th>\n",
       "      <th>salary_in_usd</th>\n",
       "      <th>remote_ratio</th>\n",
       "    </tr>\n",
       "  </thead>\n",
       "  <tbody>\n",
       "    <tr>\n",
       "      <th>count</th>\n",
       "      <td>603.000000</td>\n",
       "      <td>606.000000</td>\n",
       "      <td>6.060000e+02</td>\n",
       "      <td>605.000000</td>\n",
       "      <td>604.000000</td>\n",
       "    </tr>\n",
       "    <tr>\n",
       "      <th>mean</th>\n",
       "      <td>12425.086235</td>\n",
       "      <td>2021.407591</td>\n",
       "      <td>3.243708e+05</td>\n",
       "      <td>112280.672727</td>\n",
       "      <td>70.860927</td>\n",
       "    </tr>\n",
       "    <tr>\n",
       "      <th>std</th>\n",
       "      <td>175.373770</td>\n",
       "      <td>0.690341</td>\n",
       "      <td>1.545606e+06</td>\n",
       "      <td>71049.399737</td>\n",
       "      <td>40.766949</td>\n",
       "    </tr>\n",
       "    <tr>\n",
       "      <th>min</th>\n",
       "      <td>12121.000000</td>\n",
       "      <td>2020.000000</td>\n",
       "      <td>4.000000e+03</td>\n",
       "      <td>2859.000000</td>\n",
       "      <td>0.000000</td>\n",
       "    </tr>\n",
       "    <tr>\n",
       "      <th>25%</th>\n",
       "      <td>12273.500000</td>\n",
       "      <td>2021.000000</td>\n",
       "      <td>7.000000e+04</td>\n",
       "      <td>62726.000000</td>\n",
       "      <td>50.000000</td>\n",
       "    </tr>\n",
       "    <tr>\n",
       "      <th>50%</th>\n",
       "      <td>12426.000000</td>\n",
       "      <td>2022.000000</td>\n",
       "      <td>1.150000e+05</td>\n",
       "      <td>101570.000000</td>\n",
       "      <td>100.000000</td>\n",
       "    </tr>\n",
       "    <tr>\n",
       "      <th>75%</th>\n",
       "      <td>12576.500000</td>\n",
       "      <td>2022.000000</td>\n",
       "      <td>1.650000e+05</td>\n",
       "      <td>150000.000000</td>\n",
       "      <td>100.000000</td>\n",
       "    </tr>\n",
       "    <tr>\n",
       "      <th>max</th>\n",
       "      <td>12727.000000</td>\n",
       "      <td>2022.000000</td>\n",
       "      <td>3.040000e+07</td>\n",
       "      <td>600000.000000</td>\n",
       "      <td>100.000000</td>\n",
       "    </tr>\n",
       "  </tbody>\n",
       "</table>\n",
       "</div>"
      ],
      "text/plain": [
       "                ID     work_year        salary  salary_in_usd  remote_ratio\n",
       "count    603.000000   606.000000  6.060000e+02     605.000000    604.000000\n",
       "mean   12425.086235  2021.407591  3.243708e+05  112280.672727     70.860927\n",
       "std      175.373770     0.690341  1.545606e+06   71049.399737     40.766949\n",
       "min    12121.000000  2020.000000  4.000000e+03    2859.000000      0.000000\n",
       "25%    12273.500000  2021.000000  7.000000e+04   62726.000000     50.000000\n",
       "50%    12426.000000  2022.000000  1.150000e+05  101570.000000    100.000000\n",
       "75%    12576.500000  2022.000000  1.650000e+05  150000.000000    100.000000\n",
       "max    12727.000000  2022.000000  3.040000e+07  600000.000000    100.000000"
      ]
     },
     "execution_count": 17,
     "metadata": {},
     "output_type": "execute_result"
    }
   ],
   "source": [
    "data.describe()"
   ]
  },
  {
   "cell_type": "code",
   "execution_count": 19,
   "id": "1f027559",
   "metadata": {},
   "outputs": [
    {
     "data": {
      "text/plain": [
       "ID               0.100627\n",
       "work_year        0.075902\n",
       "salary          -0.014336\n",
       "salary_in_usd    0.130983\n",
       "remote_ratio     1.000000\n",
       "dtype: float64"
      ]
     },
     "execution_count": 19,
     "metadata": {},
     "output_type": "execute_result"
    }
   ],
   "source": [
    "data.corrwith(data['remote_ratio'])"
   ]
  },
  {
   "cell_type": "code",
   "execution_count": 20,
   "id": "5cb93bf4",
   "metadata": {},
   "outputs": [],
   "source": [
    "data.fillna(0, inplace = True)"
   ]
  },
  {
   "cell_type": "code",
   "execution_count": 21,
   "id": "760022ec",
   "metadata": {},
   "outputs": [
    {
     "name": "stdout",
     "output_type": "stream",
     "text": [
      "<class 'pandas.core.frame.DataFrame'>\n",
      "RangeIndex: 607 entries, 0 to 606\n",
      "Data columns (total 12 columns):\n",
      " #   Column              Non-Null Count  Dtype  \n",
      "---  ------              --------------  -----  \n",
      " 0   ID                  607 non-null    float64\n",
      " 1   work_year           607 non-null    float64\n",
      " 2   experience_level    607 non-null    object \n",
      " 3   employment_type     607 non-null    object \n",
      " 4   job_title           607 non-null    object \n",
      " 5   salary              607 non-null    float64\n",
      " 6   salary_currency     607 non-null    object \n",
      " 7   salary_in_usd       607 non-null    float64\n",
      " 8   employee_residence  607 non-null    object \n",
      " 9   remote_ratio        607 non-null    float64\n",
      " 10  company_location    607 non-null    object \n",
      " 11  company_size        607 non-null    object \n",
      "dtypes: float64(5), object(7)\n",
      "memory usage: 57.0+ KB\n"
     ]
    }
   ],
   "source": [
    "data.info()"
   ]
  },
  {
   "cell_type": "code",
   "execution_count": 22,
   "id": "f8d42c15",
   "metadata": {},
   "outputs": [
    {
     "data": {
      "text/html": [
       "<div>\n",
       "<style scoped>\n",
       "    .dataframe tbody tr th:only-of-type {\n",
       "        vertical-align: middle;\n",
       "    }\n",
       "\n",
       "    .dataframe tbody tr th {\n",
       "        vertical-align: top;\n",
       "    }\n",
       "\n",
       "    .dataframe thead th {\n",
       "        text-align: right;\n",
       "    }\n",
       "</style>\n",
       "<table border=\"1\" class=\"dataframe\">\n",
       "  <thead>\n",
       "    <tr style=\"text-align: right;\">\n",
       "      <th></th>\n",
       "      <th>ID</th>\n",
       "      <th>work_year</th>\n",
       "      <th>salary</th>\n",
       "      <th>salary_in_usd</th>\n",
       "      <th>remote_ratio</th>\n",
       "    </tr>\n",
       "  </thead>\n",
       "  <tbody>\n",
       "    <tr>\n",
       "      <th>count</th>\n",
       "      <td>607.000000</td>\n",
       "      <td>607.000000</td>\n",
       "      <td>6.070000e+02</td>\n",
       "      <td>607.000000</td>\n",
       "      <td>607.000000</td>\n",
       "    </tr>\n",
       "    <tr>\n",
       "      <th>mean</th>\n",
       "      <td>12343.207578</td>\n",
       "      <td>2018.077430</td>\n",
       "      <td>3.238364e+05</td>\n",
       "      <td>111910.719934</td>\n",
       "      <td>70.510708</td>\n",
       "    </tr>\n",
       "    <tr>\n",
       "      <th>std</th>\n",
       "      <td>1021.208080</td>\n",
       "      <td>82.049303</td>\n",
       "      <td>1.544387e+06</td>\n",
       "      <td>71223.781726</td>\n",
       "      <td>40.968910</td>\n",
       "    </tr>\n",
       "    <tr>\n",
       "      <th>min</th>\n",
       "      <td>0.000000</td>\n",
       "      <td>0.000000</td>\n",
       "      <td>0.000000e+00</td>\n",
       "      <td>0.000000</td>\n",
       "      <td>0.000000</td>\n",
       "    </tr>\n",
       "    <tr>\n",
       "      <th>25%</th>\n",
       "      <td>12270.500000</td>\n",
       "      <td>2021.000000</td>\n",
       "      <td>7.000000e+04</td>\n",
       "      <td>62650.000000</td>\n",
       "      <td>50.000000</td>\n",
       "    </tr>\n",
       "    <tr>\n",
       "      <th>50%</th>\n",
       "      <td>12424.000000</td>\n",
       "      <td>2022.000000</td>\n",
       "      <td>1.150000e+05</td>\n",
       "      <td>100800.000000</td>\n",
       "      <td>100.000000</td>\n",
       "    </tr>\n",
       "    <tr>\n",
       "      <th>75%</th>\n",
       "      <td>12575.500000</td>\n",
       "      <td>2022.000000</td>\n",
       "      <td>1.650000e+05</td>\n",
       "      <td>150000.000000</td>\n",
       "      <td>100.000000</td>\n",
       "    </tr>\n",
       "    <tr>\n",
       "      <th>max</th>\n",
       "      <td>12727.000000</td>\n",
       "      <td>2022.000000</td>\n",
       "      <td>3.040000e+07</td>\n",
       "      <td>600000.000000</td>\n",
       "      <td>100.000000</td>\n",
       "    </tr>\n",
       "  </tbody>\n",
       "</table>\n",
       "</div>"
      ],
      "text/plain": [
       "                ID     work_year        salary  salary_in_usd  remote_ratio\n",
       "count    607.000000   607.000000  6.070000e+02     607.000000    607.000000\n",
       "mean   12343.207578  2018.077430  3.238364e+05  111910.719934     70.510708\n",
       "std     1021.208080    82.049303  1.544387e+06   71223.781726     40.968910\n",
       "min        0.000000     0.000000  0.000000e+00       0.000000      0.000000\n",
       "25%    12270.500000  2021.000000  7.000000e+04   62650.000000     50.000000\n",
       "50%    12424.000000  2022.000000  1.150000e+05  100800.000000    100.000000\n",
       "75%    12575.500000  2022.000000  1.650000e+05  150000.000000    100.000000\n",
       "max    12727.000000  2022.000000  3.040000e+07  600000.000000    100.000000"
      ]
     },
     "execution_count": 22,
     "metadata": {},
     "output_type": "execute_result"
    }
   ],
   "source": [
    "data.describe()"
   ]
  },
  {
   "cell_type": "code",
   "execution_count": 23,
   "id": "df4313e6",
   "metadata": {
    "scrolled": false
   },
   "outputs": [],
   "source": [
    "data['ID '].dropna(axis = 0, inplace = True)"
   ]
  },
  {
   "cell_type": "code",
   "execution_count": 24,
   "id": "31c4e798",
   "metadata": {},
   "outputs": [
    {
     "data": {
      "text/plain": [
       "0"
      ]
     },
     "execution_count": 24,
     "metadata": {},
     "output_type": "execute_result"
    }
   ],
   "source": [
    "data['work_year'].isnull().sum()"
   ]
  },
  {
   "cell_type": "code",
   "execution_count": 25,
   "id": "265bd25e",
   "metadata": {},
   "outputs": [
    {
     "data": {
      "text/plain": [
       "0"
      ]
     },
     "execution_count": 25,
     "metadata": {},
     "output_type": "execute_result"
    }
   ],
   "source": [
    "data['ID '].isnull().sum()"
   ]
  },
  {
   "cell_type": "code",
   "execution_count": 26,
   "id": "258258b2",
   "metadata": {},
   "outputs": [
    {
     "data": {
      "text/plain": [
       "100800.0"
      ]
     },
     "execution_count": 26,
     "metadata": {},
     "output_type": "execute_result"
    }
   ],
   "source": [
    "data['salary_in_usd'].median()"
   ]
  },
  {
   "cell_type": "code",
   "execution_count": 27,
   "id": "105bf09c",
   "metadata": {},
   "outputs": [],
   "source": [
    "data_sci = data[data['job_title'] == 'Data Scientist']"
   ]
  },
  {
   "cell_type": "code",
   "execution_count": 28,
   "id": "fd7ad39b",
   "metadata": {},
   "outputs": [
    {
     "name": "stdout",
     "output_type": "stream",
     "text": [
      "Min Salary : 0.0\n"
     ]
    }
   ],
   "source": [
    "print('Min Salary :', data_sci['salary'].min())"
   ]
  },
  {
   "cell_type": "code",
   "execution_count": 29,
   "id": "03aa03ac",
   "metadata": {},
   "outputs": [
    {
     "name": "stdout",
     "output_type": "stream",
     "text": [
      "Max Salary : 30400000.0\n"
     ]
    }
   ],
   "source": [
    "print('Max Salary :', data_sci['salary'].max())"
   ]
  },
  {
   "cell_type": "code",
   "execution_count": 30,
   "id": "ef1be98c",
   "metadata": {},
   "outputs": [
    {
     "name": "stdout",
     "output_type": "stream",
     "text": [
      "Average Salary: 515759.21428571426\n"
     ]
    }
   ],
   "source": [
    "print('Average Salary:', data_sci['salary'].mean())"
   ]
  },
  {
   "cell_type": "code",
   "execution_count": 31,
   "id": "4afd5718",
   "metadata": {},
   "outputs": [
    {
     "name": "stdout",
     "output_type": "stream",
     "text": [
      "Salary Sum: 72206290.0\n"
     ]
    }
   ],
   "source": [
    "print('Salary Sum:', data_sci['salary'].sum())"
   ]
  },
  {
   "cell_type": "code",
   "execution_count": 32,
   "id": "6cb37833",
   "metadata": {},
   "outputs": [
    {
     "name": "stdout",
     "output_type": "stream",
     "text": [
      "Standard deviation: 2741349.6804760518\n"
     ]
    }
   ],
   "source": [
    "print('Standard deviation:', data_sci['salary'].std())"
   ]
  },
  {
   "cell_type": "code",
   "execution_count": null,
   "id": "f593a072",
   "metadata": {},
   "outputs": [],
   "source": []
  },
  {
   "cell_type": "code",
   "execution_count": 33,
   "id": "2ac47bed",
   "metadata": {
    "scrolled": true
   },
   "outputs": [
    {
     "name": "stderr",
     "output_type": "stream",
     "text": [
      "C:\\Users\\singh\\AppData\\Local\\Temp\\ipykernel_17836\\716452568.py:1: UserWarning: Boolean Series key will be reindexed to match DataFrame index.\n",
      "  da_salary_2020 = data[data['job_title'] == 'Data Analyst'][data['work_year'] == 2020.0]\n"
     ]
    }
   ],
   "source": [
    "da_salary_2020 = data[data['job_title'] == 'Data Analyst'][data['work_year'] == 2020.0]"
   ]
  },
  {
   "cell_type": "code",
   "execution_count": 34,
   "id": "d69847d6",
   "metadata": {},
   "outputs": [
    {
     "data": {
      "text/html": [
       "<div>\n",
       "<style scoped>\n",
       "    .dataframe tbody tr th:only-of-type {\n",
       "        vertical-align: middle;\n",
       "    }\n",
       "\n",
       "    .dataframe tbody tr th {\n",
       "        vertical-align: top;\n",
       "    }\n",
       "\n",
       "    .dataframe thead th {\n",
       "        text-align: right;\n",
       "    }\n",
       "</style>\n",
       "<table border=\"1\" class=\"dataframe\">\n",
       "  <thead>\n",
       "    <tr style=\"text-align: right;\">\n",
       "      <th></th>\n",
       "      <th>ID</th>\n",
       "      <th>work_year</th>\n",
       "      <th>experience_level</th>\n",
       "      <th>employment_type</th>\n",
       "      <th>job_title</th>\n",
       "      <th>salary</th>\n",
       "      <th>salary_currency</th>\n",
       "      <th>salary_in_usd</th>\n",
       "      <th>employee_residence</th>\n",
       "      <th>remote_ratio</th>\n",
       "      <th>company_location</th>\n",
       "      <th>company_size</th>\n",
       "    </tr>\n",
       "  </thead>\n",
       "  <tbody>\n",
       "    <tr>\n",
       "      <th>5</th>\n",
       "      <td>12126.0</td>\n",
       "      <td>2020.0</td>\n",
       "      <td>EN</td>\n",
       "      <td>FT</td>\n",
       "      <td>Data Analyst</td>\n",
       "      <td>72000.0</td>\n",
       "      <td>USD</td>\n",
       "      <td>72000.0</td>\n",
       "      <td>US</td>\n",
       "      <td>100.0</td>\n",
       "      <td>US</td>\n",
       "      <td>L</td>\n",
       "    </tr>\n",
       "    <tr>\n",
       "      <th>14</th>\n",
       "      <td>12135.0</td>\n",
       "      <td>2020.0</td>\n",
       "      <td>MI</td>\n",
       "      <td>FT</td>\n",
       "      <td>Data Analyst</td>\n",
       "      <td>85000.0</td>\n",
       "      <td>USD</td>\n",
       "      <td>0.0</td>\n",
       "      <td>US</td>\n",
       "      <td>100.0</td>\n",
       "      <td>US</td>\n",
       "      <td>L</td>\n",
       "    </tr>\n",
       "    <tr>\n",
       "      <th>15</th>\n",
       "      <td>12136.0</td>\n",
       "      <td>2020.0</td>\n",
       "      <td>MI</td>\n",
       "      <td>FT</td>\n",
       "      <td>Data Analyst</td>\n",
       "      <td>8000.0</td>\n",
       "      <td>USD</td>\n",
       "      <td>8000.0</td>\n",
       "      <td>PK</td>\n",
       "      <td>50.0</td>\n",
       "      <td>PK</td>\n",
       "      <td>L</td>\n",
       "    </tr>\n",
       "    <tr>\n",
       "      <th>34</th>\n",
       "      <td>12155.0</td>\n",
       "      <td>2020.0</td>\n",
       "      <td>MI</td>\n",
       "      <td>FT</td>\n",
       "      <td>Data Analyst</td>\n",
       "      <td>41000.0</td>\n",
       "      <td>EUR</td>\n",
       "      <td>46759.0</td>\n",
       "      <td>FR</td>\n",
       "      <td>50.0</td>\n",
       "      <td>FR</td>\n",
       "      <td>L</td>\n",
       "    </tr>\n",
       "    <tr>\n",
       "      <th>38</th>\n",
       "      <td>12159.0</td>\n",
       "      <td>2020.0</td>\n",
       "      <td>EN</td>\n",
       "      <td>FT</td>\n",
       "      <td>Data Analyst</td>\n",
       "      <td>10000.0</td>\n",
       "      <td>USD</td>\n",
       "      <td>10000.0</td>\n",
       "      <td>NG</td>\n",
       "      <td>100.0</td>\n",
       "      <td>NG</td>\n",
       "      <td>S</td>\n",
       "    </tr>\n",
       "    <tr>\n",
       "      <th>50</th>\n",
       "      <td>12171.0</td>\n",
       "      <td>2020.0</td>\n",
       "      <td>EN</td>\n",
       "      <td>FT</td>\n",
       "      <td>Data Analyst</td>\n",
       "      <td>450000.0</td>\n",
       "      <td>INR</td>\n",
       "      <td>6072.0</td>\n",
       "      <td>IN</td>\n",
       "      <td>0.0</td>\n",
       "      <td>IN</td>\n",
       "      <td>S</td>\n",
       "    </tr>\n",
       "    <tr>\n",
       "      <th>51</th>\n",
       "      <td>12172.0</td>\n",
       "      <td>2020.0</td>\n",
       "      <td>EN</td>\n",
       "      <td>FT</td>\n",
       "      <td>Data Analyst</td>\n",
       "      <td>91000.0</td>\n",
       "      <td>USD</td>\n",
       "      <td>91000.0</td>\n",
       "      <td>US</td>\n",
       "      <td>100.0</td>\n",
       "      <td>US</td>\n",
       "      <td>L</td>\n",
       "    </tr>\n",
       "  </tbody>\n",
       "</table>\n",
       "</div>"
      ],
      "text/plain": [
       "        ID   work_year experience_level employment_type     job_title  \\\n",
       "5   12126.0     2020.0               EN              FT  Data Analyst   \n",
       "14  12135.0     2020.0               MI              FT  Data Analyst   \n",
       "15  12136.0     2020.0               MI              FT  Data Analyst   \n",
       "34  12155.0     2020.0               MI              FT  Data Analyst   \n",
       "38  12159.0     2020.0               EN              FT  Data Analyst   \n",
       "50  12171.0     2020.0               EN              FT  Data Analyst   \n",
       "51  12172.0     2020.0               EN              FT  Data Analyst   \n",
       "\n",
       "      salary salary_currency  salary_in_usd employee_residence  remote_ratio  \\\n",
       "5    72000.0             USD        72000.0                 US         100.0   \n",
       "14   85000.0             USD            0.0                 US         100.0   \n",
       "15    8000.0             USD         8000.0                 PK          50.0   \n",
       "34   41000.0             EUR        46759.0                 FR          50.0   \n",
       "38   10000.0             USD        10000.0                 NG         100.0   \n",
       "50  450000.0             INR         6072.0                 IN           0.0   \n",
       "51   91000.0             USD        91000.0                 US         100.0   \n",
       "\n",
       "   company_location company_size  \n",
       "5                US            L  \n",
       "14               US            L  \n",
       "15               PK            L  \n",
       "34               FR            L  \n",
       "38               NG            S  \n",
       "50               IN            S  \n",
       "51               US            L  "
      ]
     },
     "execution_count": 34,
     "metadata": {},
     "output_type": "execute_result"
    }
   ],
   "source": [
    "da_salary_2020"
   ]
  },
  {
   "cell_type": "code",
   "execution_count": 35,
   "id": "6765b96f",
   "metadata": {},
   "outputs": [
    {
     "name": "stdout",
     "output_type": "stream",
     "text": [
      "Min Salary in 2020 : 8000.0\n"
     ]
    }
   ],
   "source": [
    "print('Min Salary in 2020 :', da_salary_2020['salary'].min())"
   ]
  },
  {
   "cell_type": "code",
   "execution_count": 36,
   "id": "f05fda69",
   "metadata": {},
   "outputs": [
    {
     "name": "stdout",
     "output_type": "stream",
     "text": [
      "Max Salary in 2020 : 450000.0\n"
     ]
    }
   ],
   "source": [
    "print('Max Salary in 2020 :', da_salary_2020['salary'].max())"
   ]
  },
  {
   "cell_type": "code",
   "execution_count": 37,
   "id": "892d3baf",
   "metadata": {},
   "outputs": [
    {
     "name": "stdout",
     "output_type": "stream",
     "text": [
      "Average Salary in 2020: 108142.85714285714\n"
     ]
    }
   ],
   "source": [
    "print('Average Salary in 2020:', da_salary_2020['salary'].mean())"
   ]
  },
  {
   "cell_type": "code",
   "execution_count": 38,
   "id": "4dd73689",
   "metadata": {},
   "outputs": [
    {
     "name": "stdout",
     "output_type": "stream",
     "text": [
      "Standard deviation of Salary in 2020: 154472.68212797213\n"
     ]
    }
   ],
   "source": [
    "print('Standard deviation of Salary in 2020:', da_salary_2020['salary'].std())"
   ]
  },
  {
   "cell_type": "code",
   "execution_count": 39,
   "id": "7f808047",
   "metadata": {},
   "outputs": [
    {
     "name": "stdout",
     "output_type": "stream",
     "text": [
      "Sum Salary in 2020 : 757000.0\n"
     ]
    }
   ],
   "source": [
    "print('Sum Salary in 2020 :', da_salary_2020['salary'].sum())"
   ]
  },
  {
   "cell_type": "code",
   "execution_count": 40,
   "id": "aa4e88cb",
   "metadata": {
    "scrolled": true
   },
   "outputs": [
    {
     "name": "stderr",
     "output_type": "stream",
     "text": [
      "C:\\Users\\singh\\AppData\\Local\\Temp\\ipykernel_17836\\1151569095.py:1: UserWarning: Boolean Series key will be reindexed to match DataFrame index.\n",
      "  da_salary_2022 = data[data['job_title'] == 'Data Analyst'][data['work_year'] == 2022.0]\n"
     ]
    }
   ],
   "source": [
    "da_salary_2022 = data[data['job_title'] == 'Data Analyst'][data['work_year'] == 2022.0]"
   ]
  },
  {
   "cell_type": "code",
   "execution_count": 41,
   "id": "16296305",
   "metadata": {},
   "outputs": [
    {
     "name": "stdout",
     "output_type": "stream",
     "text": [
      "Min Salary of 2022: 20000.0\n"
     ]
    }
   ],
   "source": [
    "print('Min Salary of 2022:', da_salary_2022['salary'].min())"
   ]
  },
  {
   "cell_type": "code",
   "execution_count": 42,
   "id": "680cc672",
   "metadata": {},
   "outputs": [
    {
     "name": "stdout",
     "output_type": "stream",
     "text": [
      "Max Salary of 2022: 170000.0\n"
     ]
    }
   ],
   "source": [
    "print('Max Salary of 2022:', da_salary_2022['salary'].max())"
   ]
  },
  {
   "cell_type": "code",
   "execution_count": 43,
   "id": "c0488f5f",
   "metadata": {},
   "outputs": [
    {
     "name": "stdout",
     "output_type": "stream",
     "text": [
      "Sum Salary of 2022: 7055565.0\n"
     ]
    }
   ],
   "source": [
    "print('Sum Salary of 2022:', da_salary_2022['salary'].sum())"
   ]
  },
  {
   "cell_type": "code",
   "execution_count": 44,
   "id": "1bc18d2c",
   "metadata": {},
   "outputs": [
    {
     "name": "stdout",
     "output_type": "stream",
     "text": [
      "Standard deviation of Salary in 2022: 38258.17372485739\n"
     ]
    }
   ],
   "source": [
    "print('Standard deviation of Salary in 2022:', da_salary_2022['salary'].std())"
   ]
  },
  {
   "cell_type": "code",
   "execution_count": 45,
   "id": "fc50c2f5",
   "metadata": {
    "scrolled": true
   },
   "outputs": [
    {
     "name": "stdout",
     "output_type": "stream",
     "text": [
      "Average Salary in 2022 : 99374.15492957746\n"
     ]
    }
   ],
   "source": [
    "print('Average Salary in 2022 :', da_salary_2022['salary'].mean())"
   ]
  },
  {
   "cell_type": "code",
   "execution_count": 46,
   "id": "ead45a10",
   "metadata": {},
   "outputs": [
    {
     "name": "stderr",
     "output_type": "stream",
     "text": [
      "C:\\Users\\singh\\AppData\\Local\\Temp\\ipykernel_17836\\1037122526.py:1: UserWarning: Boolean Series key will be reindexed to match DataFrame index.\n",
      "  da_salary_2021 = data[data['job_title'] == 'Data Analyst'][data['work_year'] == 2021.0]\n"
     ]
    }
   ],
   "source": [
    "da_salary_2021 = data[data['job_title'] == 'Data Analyst'][data['work_year'] == 2021.0]"
   ]
  },
  {
   "cell_type": "code",
   "execution_count": 47,
   "id": "9fb151c5",
   "metadata": {},
   "outputs": [
    {
     "name": "stdout",
     "output_type": "stream",
     "text": [
      "Min Salary in 2021: 8760.0\n"
     ]
    }
   ],
   "source": [
    "print('Min Salary in 2021:', da_salary_2021['salary'].min())"
   ]
  },
  {
   "cell_type": "code",
   "execution_count": 48,
   "id": "7ad97234",
   "metadata": {},
   "outputs": [
    {
     "name": "stdout",
     "output_type": "stream",
     "text": [
      "Max Salary in 2021: 200000.0\n"
     ]
    }
   ],
   "source": [
    "print('Max Salary in 2021:', da_salary_2021['salary'].max())"
   ]
  },
  {
   "cell_type": "code",
   "execution_count": 49,
   "id": "fbd3df4f",
   "metadata": {},
   "outputs": [
    {
     "name": "stdout",
     "output_type": "stream",
     "text": [
      "Average Salary of 2021 : 83515.42857142857\n"
     ]
    }
   ],
   "source": [
    "print('Average Salary of 2021 :', da_salary_2021['salary'].mean())"
   ]
  },
  {
   "cell_type": "code",
   "execution_count": 50,
   "id": "70bb7c82",
   "metadata": {},
   "outputs": [
    {
     "name": "stdout",
     "output_type": "stream",
     "text": [
      "Standard deviation of Salary in 2021: 44662.07667105761\n"
     ]
    }
   ],
   "source": [
    "print('Standard deviation of Salary in 2021:', da_salary_2021['salary'].std())"
   ]
  },
  {
   "cell_type": "code",
   "execution_count": 51,
   "id": "bdc7f51e",
   "metadata": {},
   "outputs": [
    {
     "name": "stdout",
     "output_type": "stream",
     "text": [
      "Sum Salary of 2021: 1169216.0\n"
     ]
    }
   ],
   "source": [
    "print('Sum Salary of 2021:', da_salary_2021['salary'].sum())"
   ]
  },
  {
   "cell_type": "code",
   "execution_count": 63,
   "id": "17d66b57",
   "metadata": {},
   "outputs": [],
   "source": [
    "data.drop(['ID '], axis = 1, inplace  = True)\n",
    "data.drop(['employment_type'], axis = 1, inplace  = True)\n",
    "data.drop(['salary_currency'], axis = 1, inplace  = True)\n",
    "data.drop(['employee_residence'], axis = 1, inplace  = True)\n",
    "data.drop(['company_location'], axis = 1, inplace  = True)\n",
    "data.drop(['company_size'], axis = 1, inplace  = True)\n",
    "data.drop(['job_title'], axis = 1, inplace  = True)"
   ]
  },
  {
   "cell_type": "markdown",
   "id": "5d795c18",
   "metadata": {},
   "source": [
    "# prediction\n"
   ]
  },
  {
   "cell_type": "code",
   "execution_count": 64,
   "id": "4a62ec2f",
   "metadata": {},
   "outputs": [],
   "source": [
    "from sklearn.preprocessing import LabelEncoder"
   ]
  },
  {
   "cell_type": "code",
   "execution_count": 65,
   "id": "e810816f",
   "metadata": {},
   "outputs": [],
   "source": [
    "le = LabelEncoder()"
   ]
  },
  {
   "cell_type": "code",
   "execution_count": 66,
   "id": "d0b4d852",
   "metadata": {},
   "outputs": [],
   "source": [
    "data['experience_level'] = le.fit_transform(data['experience_level'])"
   ]
  },
  {
   "cell_type": "code",
   "execution_count": 67,
   "id": "d187de1a",
   "metadata": {},
   "outputs": [
    {
     "data": {
      "text/plain": [
       "array([2, 3, 0, 1], dtype=int64)"
      ]
     },
     "execution_count": 67,
     "metadata": {},
     "output_type": "execute_result"
    }
   ],
   "source": [
    "data['experience_level'].unique()"
   ]
  },
  {
   "cell_type": "code",
   "execution_count": 68,
   "id": "29f5b628",
   "metadata": {},
   "outputs": [
    {
     "data": {
      "text/plain": [
       "array([2, 3, 0, 1], dtype=int64)"
      ]
     },
     "execution_count": 68,
     "metadata": {},
     "output_type": "execute_result"
    }
   ],
   "source": [
    "data['experience_level'].unique()"
   ]
  },
  {
   "cell_type": "code",
   "execution_count": 69,
   "id": "3f66758f",
   "metadata": {
    "scrolled": true
   },
   "outputs": [
    {
     "data": {
      "text/html": [
       "<div>\n",
       "<style scoped>\n",
       "    .dataframe tbody tr th:only-of-type {\n",
       "        vertical-align: middle;\n",
       "    }\n",
       "\n",
       "    .dataframe tbody tr th {\n",
       "        vertical-align: top;\n",
       "    }\n",
       "\n",
       "    .dataframe thead th {\n",
       "        text-align: right;\n",
       "    }\n",
       "</style>\n",
       "<table border=\"1\" class=\"dataframe\">\n",
       "  <thead>\n",
       "    <tr style=\"text-align: right;\">\n",
       "      <th></th>\n",
       "      <th>work_year</th>\n",
       "      <th>experience_level</th>\n",
       "      <th>salary</th>\n",
       "      <th>salary_in_usd</th>\n",
       "      <th>remote_ratio</th>\n",
       "    </tr>\n",
       "  </thead>\n",
       "  <tbody>\n",
       "    <tr>\n",
       "      <th>count</th>\n",
       "      <td>607.000000</td>\n",
       "      <td>607.000000</td>\n",
       "      <td>6.070000e+02</td>\n",
       "      <td>607.000000</td>\n",
       "      <td>607.000000</td>\n",
       "    </tr>\n",
       "    <tr>\n",
       "      <th>mean</th>\n",
       "      <td>2018.077430</td>\n",
       "      <td>2.128501</td>\n",
       "      <td>3.238364e+05</td>\n",
       "      <td>111910.719934</td>\n",
       "      <td>70.510708</td>\n",
       "    </tr>\n",
       "    <tr>\n",
       "      <th>std</th>\n",
       "      <td>82.049303</td>\n",
       "      <td>1.034055</td>\n",
       "      <td>1.544387e+06</td>\n",
       "      <td>71223.781726</td>\n",
       "      <td>40.968910</td>\n",
       "    </tr>\n",
       "    <tr>\n",
       "      <th>min</th>\n",
       "      <td>0.000000</td>\n",
       "      <td>0.000000</td>\n",
       "      <td>0.000000e+00</td>\n",
       "      <td>0.000000</td>\n",
       "      <td>0.000000</td>\n",
       "    </tr>\n",
       "    <tr>\n",
       "      <th>25%</th>\n",
       "      <td>2021.000000</td>\n",
       "      <td>2.000000</td>\n",
       "      <td>7.000000e+04</td>\n",
       "      <td>62650.000000</td>\n",
       "      <td>50.000000</td>\n",
       "    </tr>\n",
       "    <tr>\n",
       "      <th>50%</th>\n",
       "      <td>2022.000000</td>\n",
       "      <td>2.000000</td>\n",
       "      <td>1.150000e+05</td>\n",
       "      <td>100800.000000</td>\n",
       "      <td>100.000000</td>\n",
       "    </tr>\n",
       "    <tr>\n",
       "      <th>75%</th>\n",
       "      <td>2022.000000</td>\n",
       "      <td>3.000000</td>\n",
       "      <td>1.650000e+05</td>\n",
       "      <td>150000.000000</td>\n",
       "      <td>100.000000</td>\n",
       "    </tr>\n",
       "    <tr>\n",
       "      <th>max</th>\n",
       "      <td>2022.000000</td>\n",
       "      <td>3.000000</td>\n",
       "      <td>3.040000e+07</td>\n",
       "      <td>600000.000000</td>\n",
       "      <td>100.000000</td>\n",
       "    </tr>\n",
       "  </tbody>\n",
       "</table>\n",
       "</div>"
      ],
      "text/plain": [
       "         work_year  experience_level        salary  salary_in_usd  \\\n",
       "count   607.000000        607.000000  6.070000e+02     607.000000   \n",
       "mean   2018.077430          2.128501  3.238364e+05  111910.719934   \n",
       "std      82.049303          1.034055  1.544387e+06   71223.781726   \n",
       "min       0.000000          0.000000  0.000000e+00       0.000000   \n",
       "25%    2021.000000          2.000000  7.000000e+04   62650.000000   \n",
       "50%    2022.000000          2.000000  1.150000e+05  100800.000000   \n",
       "75%    2022.000000          3.000000  1.650000e+05  150000.000000   \n",
       "max    2022.000000          3.000000  3.040000e+07  600000.000000   \n",
       "\n",
       "       remote_ratio  \n",
       "count    607.000000  \n",
       "mean      70.510708  \n",
       "std       40.968910  \n",
       "min        0.000000  \n",
       "25%       50.000000  \n",
       "50%      100.000000  \n",
       "75%      100.000000  \n",
       "max      100.000000  "
      ]
     },
     "execution_count": 69,
     "metadata": {},
     "output_type": "execute_result"
    }
   ],
   "source": [
    "data.describe()"
   ]
  },
  {
   "cell_type": "code",
   "execution_count": 70,
   "id": "070a0382",
   "metadata": {},
   "outputs": [
    {
     "data": {
      "text/plain": [
       "(607, 5)"
      ]
     },
     "execution_count": 70,
     "metadata": {},
     "output_type": "execute_result"
    }
   ],
   "source": [
    "data.shape"
   ]
  },
  {
   "cell_type": "code",
   "execution_count": 71,
   "id": "09a53fbf",
   "metadata": {},
   "outputs": [
    {
     "data": {
      "text/plain": [
       "work_year           0\n",
       "experience_level    0\n",
       "salary              0\n",
       "salary_in_usd       0\n",
       "remote_ratio        0\n",
       "dtype: int64"
      ]
     },
     "execution_count": 71,
     "metadata": {},
     "output_type": "execute_result"
    }
   ],
   "source": [
    "data.isnull().sum()"
   ]
  },
  {
   "cell_type": "code",
   "execution_count": 72,
   "id": "eda24572",
   "metadata": {},
   "outputs": [],
   "source": [
    "data.fillna(0, inplace=True)"
   ]
  },
  {
   "cell_type": "code",
   "execution_count": 73,
   "id": "9105249d",
   "metadata": {},
   "outputs": [],
   "source": [
    "from sklearn.linear_model import LinearRegression\n",
    "from sklearn.model_selection import cross_validate, train_test_split\n",
    "from sklearn import metrics\n",
    "from sklearn.model_selection import train_test_split\n",
    "from sklearn.preprocessing import MinMaxScaler"
   ]
  },
  {
   "cell_type": "code",
   "execution_count": 74,
   "id": "84ef6b56",
   "metadata": {},
   "outputs": [],
   "source": [
    "norm = MinMaxScaler()   \n",
    "norm_val = norm.fit_transform(data)"
   ]
  },
  {
   "cell_type": "code",
   "execution_count": 76,
   "id": "d155f1ed",
   "metadata": {},
   "outputs": [],
   "source": [
    "new_data = pd.DataFrame(norm_val, columns = ['work_year','experience_level','salary','salary_in_usd','remote_ratio'])"
   ]
  },
  {
   "cell_type": "code",
   "execution_count": 77,
   "id": "4281f020",
   "metadata": {},
   "outputs": [
    {
     "data": {
      "text/plain": [
       "(607, 5)"
      ]
     },
     "execution_count": 77,
     "metadata": {},
     "output_type": "execute_result"
    }
   ],
   "source": [
    "new_data.shape\n"
   ]
  },
  {
   "cell_type": "code",
   "execution_count": 78,
   "id": "6d4fa545",
   "metadata": {
    "scrolled": true
   },
   "outputs": [
    {
     "data": {
      "text/plain": [
       "work_year          -0.031703\n",
       "experience_level    1.000000\n",
       "salary             -0.023901\n",
       "salary_in_usd       0.318170\n",
       "remote_ratio        0.064277\n",
       "dtype: float64"
      ]
     },
     "execution_count": 78,
     "metadata": {},
     "output_type": "execute_result"
    }
   ],
   "source": [
    "new_data.corrwith(new_data['experience_level'])"
   ]
  },
  {
   "cell_type": "code",
   "execution_count": 79,
   "id": "4bc3da24",
   "metadata": {},
   "outputs": [],
   "source": [
    "x = new_data[['experience_level']]\n",
    "y = new_data['salary_in_usd']"
   ]
  },
  {
   "cell_type": "code",
   "execution_count": 80,
   "id": "37ce420d",
   "metadata": {},
   "outputs": [
    {
     "data": {
      "text/plain": [
       "(607, 1)"
      ]
     },
     "execution_count": 80,
     "metadata": {},
     "output_type": "execute_result"
    }
   ],
   "source": [
    "x.shape"
   ]
  },
  {
   "cell_type": "code",
   "execution_count": 81,
   "id": "bfd73cd6",
   "metadata": {},
   "outputs": [
    {
     "data": {
      "text/plain": [
       "<matplotlib.collections.PathCollection at 0x18a1dd755b0>"
      ]
     },
     "execution_count": 81,
     "metadata": {},
     "output_type": "execute_result"
    },
    {
     "data": {
      "image/png": "[encoded data removed]",
      "text/plain": [
       "<Figure size 432x288 with 1 Axes>"
      ]
     },
     "metadata": {
      "needs_background": "light"
     },
     "output_type": "display_data"
    }
   ],
   "source": [
    "plt.scatter(x,y)"
   ]
  },
  {
   "cell_type": "code",
   "execution_count": 82,
   "id": "d85f7de3",
   "metadata": {},
   "outputs": [],
   "source": [
    "x_train, x_test, y_train, y_test = train_test_split(x,y, test_size=0.3, random_state=42)"
   ]
  },
  {
   "cell_type": "code",
   "execution_count": 83,
   "id": "7995edb8",
   "metadata": {},
   "outputs": [],
   "source": [
    "le = LinearRegression()"
   ]
  },
  {
   "cell_type": "code",
   "execution_count": 84,
   "id": "4cc4c687",
   "metadata": {},
   "outputs": [
    {
     "data": {
      "text/plain": [
       "LinearRegression()"
      ]
     },
     "execution_count": 84,
     "metadata": {},
     "output_type": "execute_result"
    }
   ],
   "source": [
    "le.fit(x_train,y_train)"
   ]
  },
  {
   "cell_type": "code",
   "execution_count": 85,
   "id": "f794bde6",
   "metadata": {},
   "outputs": [],
   "source": [
    "y_pred = le.predict(x_test)"
   ]
  },
  {
   "cell_type": "code",
   "execution_count": 86,
   "id": "c5b5ede9",
   "metadata": {},
   "outputs": [
    {
     "data": {
      "text/plain": [
       "<matplotlib.collections.PathCollection at 0x18a1de57130>"
      ]
     },
     "execution_count": 86,
     "metadata": {},
     "output_type": "execute_result"
    },
    {
     "data": {
      "image/png": "[encoded data removed]",
      "text/plain": [
       "<Figure size 432x288 with 1 Axes>"
      ]
     },
     "metadata": {
      "needs_background": "light"
     },
     "output_type": "display_data"
    }
   ],
   "source": [
    "plt.scatter(x_test,y_pred)"
   ]
  },
  {
   "cell_type": "code",
   "execution_count": 87,
   "id": "848f5c3d",
   "metadata": {},
   "outputs": [
    {
     "data": {
      "text/plain": [
       "(183, 1)"
      ]
     },
     "execution_count": 87,
     "metadata": {},
     "output_type": "execute_result"
    }
   ],
   "source": [
    "x_test.shape"
   ]
  },
  {
   "cell_type": "code",
   "execution_count": 88,
   "id": "8984c4b9",
   "metadata": {},
   "outputs": [
    {
     "name": "stdout",
     "output_type": "stream",
     "text": [
      "Mean Absolute Error: 0.0774408422008606\n",
      "Mean Squared Error: 0.011694042103533236\n",
      "Root Mean Squared Error: 0.10813899437082461\n",
      "Root Squared Error: 0.11196880004668652\n",
      "Adjusted R2 score : 0.09236480230861999\n"
     ]
    }
   ],
   "source": [
    "print('Mean Absolute Error:', metrics.mean_absolute_error(y_test, y_pred))\n",
    "print('Mean Squared Error:', metrics.mean_squared_error(y_test, y_pred))\n",
    "print('Root Mean Squared Error:', np.sqrt(metrics.mean_squared_error(y_test, y_pred)))\n",
    "print('Root Squared Error:', metrics.r2_score(y_test, y_pred))\n",
    "print('Adjusted R2 score :',1 - (1-le.score(x_train, y_train))*(len(y_train)-1)/(len(y_train)-x_train.shape[1]-1) )"
   ]
  },
  {
   "cell_type": "code",
   "execution_count": null,
   "id": "32c05da8",
   "metadata": {},
   "outputs": [],
   "source": [
    "sns.heatmap((new_data).corr(), annot = True)\n",
    "##analysingcorrelation after normalizing values"
   ]
  },
  {
   "cell_type": "code",
   "execution_count": null,
   "id": "cae01478",
   "metadata": {},
   "outputs": [],
   "source": [
    "sns.regplot(x = x_test,\n",
    "            y = y_pred, \n",
    "            ci = None,\n",
    "            data = new_data)"
   ]
  },
  {
   "cell_type": "code",
   "execution_count": null,
   "id": "ad57981f",
   "metadata": {},
   "outputs": [],
   "source": [
    "le.predict([[.6]])"
   ]
  },
  {
   "cell_type": "code",
   "execution_count": null,
   "id": "1b6f3c7d",
   "metadata": {},
   "outputs": [],
   "source": [
    "new_data.plot()"
   ]
  },
  {
   "cell_type": "code",
   "execution_count": null,
   "id": "f40253e4",
   "metadata": {},
   "outputs": [],
   "source": [
    "plt.scatter(x,y, color = 'red')\n",
    "plt.plot(x_test,y_pred)"
   ]
  },
  {
   "cell_type": "code",
   "execution_count": null,
   "id": "c22cdf30",
   "metadata": {},
   "outputs": [],
   "source": []
  },
  {
   "cell_type": "code",
   "execution_count": null,
   "id": "2340b251",
   "metadata": {},
   "outputs": [],
   "source": []
  }
 ],
 "metadata": {
  "kernelspec": {
   "display_name": "Python 3 (ipykernel)",
   "language": "python",
   "name": "python3"
  },
  "language_info": {
   "codemirror_mode": {
    "name": "ipython",
    "version": 3
   },
   "file_extension": ".py",
   "mimetype": "text/x-python",
   "name": "python",
   "nbconvert_exporter": "python",
   "pygments_lexer": "ipython3",
   "version": "3.9.12"
  }
 },
 "nbformat": 4,
 "nbformat_minor": 5
}
